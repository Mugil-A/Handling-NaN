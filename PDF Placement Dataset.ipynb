{
 "cells": [
  {
   "cell_type": "code",
   "execution_count": null,
   "id": "1eefc044",
   "metadata": {},
   "outputs": [],
   "source": [
    "import pandas as pd"
   ]
  },
  {
   "cell_type": "code",
   "execution_count": null,
   "id": "37820c10",
   "metadata": {},
   "outputs": [],
   "source": [
    "dataset = pd.read_csv(\"Placement.csv\")"
   ]
  },
  {
   "cell_type": "code",
   "execution_count": null,
   "id": "8cf2ecdb",
   "metadata": {},
   "outputs": [],
   "source": [
    "dataset.head()"
   ]
  },
  {
   "cell_type": "code",
   "execution_count": null,
   "id": "2cc4ed4f",
   "metadata": {},
   "outputs": [],
   "source": [
    "dataset.isnull().sum()"
   ]
  },
  {
   "cell_type": "code",
   "execution_count": null,
   "id": "55ec4aca",
   "metadata": {},
   "outputs": [],
   "source": [
    "dataset.fillna(0,inplace=True)"
   ]
  },
  {
   "cell_type": "code",
   "execution_count": null,
   "id": "99171ca5",
   "metadata": {},
   "outputs": [],
   "source": [
    "dataset"
   ]
  },
  {
   "cell_type": "code",
   "execution_count": null,
   "id": "a3728f95",
   "metadata": {},
   "outputs": [],
   "source": [
    "dataset.to_csv(\"PlacementPreProcessed.csv\")"
   ]
  },
  {
   "cell_type": "code",
   "execution_count": null,
   "id": "636bc1dc",
   "metadata": {},
   "outputs": [],
   "source": [
    "pd.read_csv(\"PlacementPreProcessed.csv\")"
   ]
  },
  {
   "cell_type": "code",
   "execution_count": null,
   "id": "0f70b88f",
   "metadata": {},
   "outputs": [],
   "source": [
    "import matplotlib.pyplot as plt"
   ]
  },
  {
   "cell_type": "code",
   "execution_count": null,
   "id": "34ee16bd",
   "metadata": {},
   "outputs": [],
   "source": [
    "import seaborn as sns\n",
    "from scipy.stats import norm"
   ]
  },
  {
   "cell_type": "code",
   "execution_count": null,
   "id": "f2ead574",
   "metadata": {},
   "outputs": [],
   "source": [
    "ax = sns.distplot(dataset[\"ssc_p\"],color='Red', kde=True, kde_kws={'color':'Blue'})\n",
    "plt.axvline(60,color='Green')"
   ]
  },
  {
   "cell_type": "code",
   "execution_count": null,
   "id": "ef1e032a",
   "metadata": {},
   "outputs": [],
   "source": [
    "plt.axvline(60,color='Green')"
   ]
  },
  {
   "cell_type": "code",
   "execution_count": null,
   "id": "9a338df4",
   "metadata": {},
   "outputs": [],
   "source": [
    "mean_ssc_p = dataset[\"ssc_p\"].mean()\n",
    "std_ssc_p = dataset[\"ssc_p\"].std()"
   ]
  },
  {
   "cell_type": "code",
   "execution_count": null,
   "id": "ddee4c0c",
   "metadata": {},
   "outputs": [],
   "source": [
    "dist = norm(mean_ssc_p,std_ssc_p)"
   ]
  },
  {
   "cell_type": "code",
   "execution_count": null,
   "id": "e30b5237",
   "metadata": {},
   "outputs": [],
   "source": [
    "dist"
   ]
  },
  {
   "cell_type": "code",
   "execution_count": null,
   "id": "9c022532",
   "metadata": {},
   "outputs": [],
   "source": [
    "range(40,60)"
   ]
  },
  {
   "cell_type": "code",
   "execution_count": null,
   "id": "2d68fc82",
   "metadata": {},
   "outputs": [],
   "source": [
    "values = []\n",
    "for value in range (40,60):\n",
    "    values.append(value)"
   ]
  },
  {
   "cell_type": "code",
   "execution_count": null,
   "id": "f7a74a47",
   "metadata": {},
   "outputs": [],
   "source": [
    "values"
   ]
  },
  {
   "cell_type": "code",
   "execution_count": null,
   "id": "aeeb0ff8",
   "metadata": {},
   "outputs": [],
   "source": [
    "dist.pdf(40)"
   ]
  },
  {
   "cell_type": "code",
   "execution_count": null,
   "id": "faae8608",
   "metadata": {},
   "outputs": [],
   "source": [
    "dist.pdf(57)"
   ]
  },
  {
   "cell_type": "code",
   "execution_count": null,
   "id": "1ac7e319",
   "metadata": {},
   "outputs": [],
   "source": [
    "possibilities = []\n",
    "for value in values:\n",
    "    possibilities.append(dist.pdf(value))"
   ]
  },
  {
   "cell_type": "code",
   "execution_count": null,
   "id": "5cc18b87",
   "metadata": {},
   "outputs": [],
   "source": [
    "possibilities"
   ]
  },
  {
   "cell_type": "code",
   "execution_count": null,
   "id": "7bf0ac41",
   "metadata": {},
   "outputs": [],
   "source": [
    "prob = sum(possibilities)"
   ]
  },
  {
   "cell_type": "code",
   "execution_count": null,
   "id": "a8cd7d81",
   "metadata": {},
   "outputs": [],
   "source": [
    "prob"
   ]
  },
  {
   "cell_type": "code",
   "execution_count": null,
   "id": "7272f511",
   "metadata": {},
   "outputs": [],
   "source": []
  },
  {
   "cell_type": "code",
   "execution_count": null,
   "id": "2751eb81",
   "metadata": {},
   "outputs": [],
   "source": []
  },
  {
   "cell_type": "code",
   "execution_count": null,
   "id": "69193451",
   "metadata": {},
   "outputs": [],
   "source": []
  },
  {
   "cell_type": "code",
   "execution_count": null,
   "id": "5c049765",
   "metadata": {},
   "outputs": [],
   "source": []
  },
  {
   "cell_type": "code",
   "execution_count": null,
   "id": "91963fe1",
   "metadata": {},
   "outputs": [],
   "source": []
  },
  {
   "cell_type": "code",
   "execution_count": 1,
   "id": "8b24c1ed",
   "metadata": {},
   "outputs": [],
   "source": [
    "import pandas as pd\n",
    "import matplotlib.pyplot as plt\n",
    "import seaborn as sns\n",
    "from scipy.stats import norm"
   ]
  },
  {
   "cell_type": "code",
   "execution_count": 2,
   "id": "c0a7fadd",
   "metadata": {},
   "outputs": [
    {
     "data": {
      "text/html": [
       "<div>\n",
       "<style scoped>\n",
       "    .dataframe tbody tr th:only-of-type {\n",
       "        vertical-align: middle;\n",
       "    }\n",
       "\n",
       "    .dataframe tbody tr th {\n",
       "        vertical-align: top;\n",
       "    }\n",
       "\n",
       "    .dataframe thead th {\n",
       "        text-align: right;\n",
       "    }\n",
       "</style>\n",
       "<table border=\"1\" class=\"dataframe\">\n",
       "  <thead>\n",
       "    <tr style=\"text-align: right;\">\n",
       "      <th></th>\n",
       "      <th>Unnamed: 0</th>\n",
       "      <th>sl_no</th>\n",
       "      <th>gender</th>\n",
       "      <th>ssc_p</th>\n",
       "      <th>ssc_b</th>\n",
       "      <th>hsc_p</th>\n",
       "      <th>hsc_b</th>\n",
       "      <th>hsc_s</th>\n",
       "      <th>degree_p</th>\n",
       "      <th>degree_t</th>\n",
       "      <th>workex</th>\n",
       "      <th>etest_p</th>\n",
       "      <th>specialisation</th>\n",
       "      <th>mba_p</th>\n",
       "      <th>status</th>\n",
       "      <th>salary</th>\n",
       "    </tr>\n",
       "  </thead>\n",
       "  <tbody>\n",
       "    <tr>\n",
       "      <th>0</th>\n",
       "      <td>0</td>\n",
       "      <td>1</td>\n",
       "      <td>M</td>\n",
       "      <td>67.00</td>\n",
       "      <td>Others</td>\n",
       "      <td>91.00</td>\n",
       "      <td>Others</td>\n",
       "      <td>Commerce</td>\n",
       "      <td>58.00</td>\n",
       "      <td>Sci&amp;Tech</td>\n",
       "      <td>No</td>\n",
       "      <td>55.0</td>\n",
       "      <td>Mkt&amp;HR</td>\n",
       "      <td>58.80</td>\n",
       "      <td>Placed</td>\n",
       "      <td>270000.0</td>\n",
       "    </tr>\n",
       "    <tr>\n",
       "      <th>1</th>\n",
       "      <td>1</td>\n",
       "      <td>2</td>\n",
       "      <td>M</td>\n",
       "      <td>79.33</td>\n",
       "      <td>Central</td>\n",
       "      <td>78.33</td>\n",
       "      <td>Others</td>\n",
       "      <td>Science</td>\n",
       "      <td>77.48</td>\n",
       "      <td>Sci&amp;Tech</td>\n",
       "      <td>Yes</td>\n",
       "      <td>86.5</td>\n",
       "      <td>Mkt&amp;Fin</td>\n",
       "      <td>66.28</td>\n",
       "      <td>Placed</td>\n",
       "      <td>200000.0</td>\n",
       "    </tr>\n",
       "    <tr>\n",
       "      <th>2</th>\n",
       "      <td>2</td>\n",
       "      <td>3</td>\n",
       "      <td>M</td>\n",
       "      <td>65.00</td>\n",
       "      <td>Central</td>\n",
       "      <td>68.00</td>\n",
       "      <td>Central</td>\n",
       "      <td>Arts</td>\n",
       "      <td>64.00</td>\n",
       "      <td>Comm&amp;Mgmt</td>\n",
       "      <td>No</td>\n",
       "      <td>75.0</td>\n",
       "      <td>Mkt&amp;Fin</td>\n",
       "      <td>57.80</td>\n",
       "      <td>Placed</td>\n",
       "      <td>250000.0</td>\n",
       "    </tr>\n",
       "    <tr>\n",
       "      <th>3</th>\n",
       "      <td>3</td>\n",
       "      <td>4</td>\n",
       "      <td>M</td>\n",
       "      <td>56.00</td>\n",
       "      <td>Central</td>\n",
       "      <td>52.00</td>\n",
       "      <td>Central</td>\n",
       "      <td>Science</td>\n",
       "      <td>52.00</td>\n",
       "      <td>Sci&amp;Tech</td>\n",
       "      <td>No</td>\n",
       "      <td>66.0</td>\n",
       "      <td>Mkt&amp;HR</td>\n",
       "      <td>59.43</td>\n",
       "      <td>Not Placed</td>\n",
       "      <td>0.0</td>\n",
       "    </tr>\n",
       "    <tr>\n",
       "      <th>4</th>\n",
       "      <td>4</td>\n",
       "      <td>5</td>\n",
       "      <td>M</td>\n",
       "      <td>85.80</td>\n",
       "      <td>Central</td>\n",
       "      <td>73.60</td>\n",
       "      <td>Central</td>\n",
       "      <td>Commerce</td>\n",
       "      <td>73.30</td>\n",
       "      <td>Comm&amp;Mgmt</td>\n",
       "      <td>No</td>\n",
       "      <td>96.8</td>\n",
       "      <td>Mkt&amp;Fin</td>\n",
       "      <td>55.50</td>\n",
       "      <td>Placed</td>\n",
       "      <td>425000.0</td>\n",
       "    </tr>\n",
       "  </tbody>\n",
       "</table>\n",
       "</div>"
      ],
      "text/plain": [
       "   Unnamed: 0  sl_no gender  ssc_p    ssc_b  hsc_p    hsc_b     hsc_s  \\\n",
       "0           0      1      M  67.00   Others  91.00   Others  Commerce   \n",
       "1           1      2      M  79.33  Central  78.33   Others   Science   \n",
       "2           2      3      M  65.00  Central  68.00  Central      Arts   \n",
       "3           3      4      M  56.00  Central  52.00  Central   Science   \n",
       "4           4      5      M  85.80  Central  73.60  Central  Commerce   \n",
       "\n",
       "   degree_p   degree_t workex  etest_p specialisation  mba_p      status  \\\n",
       "0     58.00   Sci&Tech     No     55.0         Mkt&HR  58.80      Placed   \n",
       "1     77.48   Sci&Tech    Yes     86.5        Mkt&Fin  66.28      Placed   \n",
       "2     64.00  Comm&Mgmt     No     75.0        Mkt&Fin  57.80      Placed   \n",
       "3     52.00   Sci&Tech     No     66.0         Mkt&HR  59.43  Not Placed   \n",
       "4     73.30  Comm&Mgmt     No     96.8        Mkt&Fin  55.50      Placed   \n",
       "\n",
       "     salary  \n",
       "0  270000.0  \n",
       "1  200000.0  \n",
       "2  250000.0  \n",
       "3       0.0  \n",
       "4  425000.0  "
      ]
     },
     "execution_count": 2,
     "metadata": {},
     "output_type": "execute_result"
    }
   ],
   "source": [
    "dataset = pd.read_csv(\"PlacementPreProcessed.csv\")\n",
    "dataset.head()"
   ]
  },
  {
   "cell_type": "code",
   "execution_count": 5,
   "id": "1471c9ff",
   "metadata": {},
   "outputs": [
    {
     "name": "stderr",
     "output_type": "stream",
     "text": [
      "C:\\Users\\mugilans\\AppData\\Local\\Temp\\ipykernel_31160\\1641835773.py:1: UserWarning: \n",
      "\n",
      "`distplot` is a deprecated function and will be removed in seaborn v0.14.0.\n",
      "\n",
      "Please adapt your code to use either `displot` (a figure-level function with\n",
      "similar flexibility) or `histplot` (an axes-level function for histograms).\n",
      "\n",
      "For a guide to updating your code to use the new functions, please see\n",
      "https://gist.github.com/mwaskom/de44147ed2974457ad6372750bbe5751\n",
      "\n",
      "  ax = sns.distplot(dataset[\"ssc_p\"], color ='Yellow', kde=True, kde_kws={'color':'Red'})\n"
     ]
    },
    {
     "data": {
      "text/plain": [
       "<matplotlib.lines.Line2D at 0x24ba70ea510>"
      ]
     },
     "execution_count": 5,
     "metadata": {},
     "output_type": "execute_result"
    },
    {
     "data": {
      "image/png": "[encoded data removed]",
      "text/plain": [
       "<Figure size 640x480 with 1 Axes>"
      ]
     },
     "metadata": {},
     "output_type": "display_data"
    }
   ],
   "source": [
    "ax = sns.distplot(dataset[\"ssc_p\"], color ='Yellow', kde=True, kde_kws={'color':'Red'})\n",
    "plt.axvline(40, color='Blue')\n",
    "plt.axvline(60, color='Blue')"
   ]
  },
  {
   "cell_type": "code",
   "execution_count": 6,
   "id": "e9a22eaf",
   "metadata": {},
   "outputs": [],
   "source": [
    "mean_ssc_p = dataset[\"ssc_p\"].mean()\n",
    "std_ssc_p = dataset[\"ssc_p\"].std()"
   ]
  },
  {
   "cell_type": "code",
   "execution_count": 7,
   "id": "f6f41921",
   "metadata": {},
   "outputs": [],
   "source": [
    "dist = norm(mean_ssc_p,std_ssc_p)"
   ]
  },
  {
   "cell_type": "code",
   "execution_count": 8,
   "id": "9c818675",
   "metadata": {},
   "outputs": [],
   "source": [
    "values = []\n",
    "for value in range(40,60):\n",
    "    values.append(value)"
   ]
  },
  {
   "cell_type": "code",
   "execution_count": 9,
   "id": "aa516ad7",
   "metadata": {},
   "outputs": [
    {
     "data": {
      "text/plain": [
       "[40,\n",
       " 41,\n",
       " 42,\n",
       " 43,\n",
       " 44,\n",
       " 45,\n",
       " 46,\n",
       " 47,\n",
       " 48,\n",
       " 49,\n",
       " 50,\n",
       " 51,\n",
       " 52,\n",
       " 53,\n",
       " 54,\n",
       " 55,\n",
       " 56,\n",
       " 57,\n",
       " 58,\n",
       " 59]"
      ]
     },
     "execution_count": 9,
     "metadata": {},
     "output_type": "execute_result"
    }
   ],
   "source": [
    "values"
   ]
  },
  {
   "cell_type": "code",
   "execution_count": 10,
   "id": "e9126814",
   "metadata": {},
   "outputs": [],
   "source": [
    "possibilities = []\n",
    "for value in values:\n",
    "    possibilities.append(dist.pdf(value))"
   ]
  },
  {
   "cell_type": "code",
   "execution_count": 11,
   "id": "fe43a102",
   "metadata": {},
   "outputs": [
    {
     "data": {
      "text/plain": [
       "[0.0015329114224828535,\n",
       " 0.0019267051556190002,\n",
       " 0.002401091837106753,\n",
       " 0.002966863705543068,\n",
       " 0.003634810156509462,\n",
       " 0.004415309815023451,\n",
       " 0.005317848311682825,\n",
       " 0.006350472216915636,\n",
       " 0.0075191960450905265,\n",
       " 0.008827385817478143,\n",
       " 0.010275148846718499,\n",
       " 0.011858764583155554,\n",
       " 0.013570194930153937,\n",
       " 0.015396713811418094,\n",
       " 0.01732069447798158,\n",
       " 0.019319588759641553,\n",
       " 0.021366125100358083,\n",
       " 0.023428741938312646,\n",
       " 0.025472260251149254,\n",
       " 0.027458784613159832]"
      ]
     },
     "execution_count": 11,
     "metadata": {},
     "output_type": "execute_result"
    }
   ],
   "source": [
    "possibilities"
   ]
  },
  {
   "cell_type": "code",
   "execution_count": 12,
   "id": "f3b58fe2",
   "metadata": {},
   "outputs": [],
   "source": [
    "Prob = sum(possibilities)"
   ]
  },
  {
   "cell_type": "code",
   "execution_count": 20,
   "id": "472a31cf",
   "metadata": {},
   "outputs": [
    {
     "name": "stdout",
     "output_type": "stream",
     "text": [
      "Mean of ssc_p 67.30339534883721\n",
      "STD of ssc_p 10.827205398231452\n",
      "The possibility to fall under 40 to 60 0.23035961179550077\n"
     ]
    },
    {
     "data": {
      "text/plain": [
       "<Axes: xlabel='ssc_p', ylabel='Density'>"
      ]
     },
     "execution_count": 20,
     "metadata": {},
     "output_type": "execute_result"
    }
   ],
   "source": [
    "print(\"Mean of ssc_p\", mean_ssc_p )\n",
    "print(\"STD of ssc_p\", std_ssc_p )\n",
    "print(\"The possibility to fall under 40 to 60\", Prob)\n",
    "ax"
   ]
  },
  {
   "cell_type": "code",
   "execution_count": 26,
   "id": "27c6a993",
   "metadata": {},
   "outputs": [],
   "source": [
    "def pdf_range(start, end, dataset):\n",
    "    import pandas as pd\n",
    "    import matplotlib.pyplot as plt\n",
    "    import seaborn as sns\n",
    "    from scipy.stats import norm\n",
    "    \n",
    "    ax = sns.distplot(dataset, color ='Yellow', kde=True, kde_kws={'color':'Red'})\n",
    "    plt.axvline(start, color='Blue')\n",
    "    plt.axvline(end, color='Blue')\n",
    "    \n",
    "    mean = dataset.mean()\n",
    "    std = dataset.std()\n",
    "    dist = norm(mean,std)\n",
    "    \n",
    "    values = []\n",
    "    for value in range(start,end):\n",
    "        values.append(value)\n",
    "        \n",
    "    possibilities = []\n",
    "    for value in values:\n",
    "        possibilities.append(dist.pdf(value))\n",
    "        \n",
    "    Prob = sum(possibilities)\n",
    "    \n",
    "    print(\"Mean is\", mean )\n",
    "    print(\"STD is\", std )\n",
    "    print(\"The possibility to fall under range ({} to {}) is {}\".format(start, end, Prob))"
   ]
  },
  {
   "cell_type": "code",
   "execution_count": 27,
   "id": "6c495de5",
   "metadata": {
    "scrolled": true
   },
   "outputs": [
    {
     "name": "stderr",
     "output_type": "stream",
     "text": [
      "C:\\Users\\mugilans\\AppData\\Local\\Temp\\ipykernel_31160\\1783000773.py:7: UserWarning: \n",
      "\n",
      "`distplot` is a deprecated function and will be removed in seaborn v0.14.0.\n",
      "\n",
      "Please adapt your code to use either `displot` (a figure-level function with\n",
      "similar flexibility) or `histplot` (an axes-level function for histograms).\n",
      "\n",
      "For a guide to updating your code to use the new functions, please see\n",
      "https://gist.github.com/mwaskom/de44147ed2974457ad6372750bbe5751\n",
      "\n",
      "  ax = sns.distplot(dataset, color ='Yellow', kde=True, kde_kws={'color':'Red'})\n"
     ]
    },
    {
     "name": "stdout",
     "output_type": "stream",
     "text": [
      "Mean is 67.30339534883721\n",
      "STD is 10.827205398231452\n",
      "The possibility to fall under range (60 to 80) is 0.6346413295441957\n"
     ]
    },
    {
     "data": {
      "image/png": "[encoded data removed]",
      "text/plain": [
       "<Figure size 640x480 with 1 Axes>"
      ]
     },
     "metadata": {},
     "output_type": "display_data"
    }
   ],
   "source": [
    "pdf_range(60,80, dataset[\"ssc_p\"])"
   ]
  },
  {
   "cell_type": "code",
   "execution_count": null,
   "id": "44070ef5",
   "metadata": {},
   "outputs": [],
   "source": []
  }
 ],
 "metadata": {
  "kernelspec": {
   "display_name": "Python 3 (ipykernel)",
   "language": "python",
   "name": "python3"
  },
  "language_info": {
   "codemirror_mode": {
    "name": "ipython",
    "version": 3
   },
   "file_extension": ".py",
   "mimetype": "text/x-python",
   "name": "python",
   "nbconvert_exporter": "python",
   "pygments_lexer": "ipython3",
   "version": "3.11.5"
  }
 },
 "nbformat": 4,
 "nbformat_minor": 5
}
